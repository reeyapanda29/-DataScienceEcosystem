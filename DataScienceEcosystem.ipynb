{
  "metadata": {
    "kernelspec": {
      "name": "python",
      "display_name": "Python (Pyodide)",
      "language": "python"
    },
    "language_info": {
      "codemirror_mode": {
        "name": "python",
        "version": 3
      },
      "file_extension": ".py",
      "mimetype": "text/x-python",
      "name": "python",
      "nbconvert_exporter": "python",
      "pygments_lexer": "ipython3",
      "version": "3.8"
    }
  },
  "nbformat_minor": 5,
  "nbformat": 4,
  "cells": [
    {
      "id": "f091a022-081c-4f0c-86f8-d721175ff32b",
      "cell_type": "markdown",
      "source": "# Data Science Tools and Ecosystem",
      "metadata": {}
    },
    {
      "id": "299b8ada-cbec-4ce1-aaef-25da25e7a63b",
      "cell_type": "markdown",
      "source": "In this notebook, Data Science Tools and Ecosystem are summarized.",
      "metadata": {}
    },
    {
      "id": "1b2444b6-b907-4efc-87b0-0191dede6e3e",
      "cell_type": "markdown",
      "source": "**Objectives:**\n-  List popular languages for Data Science  \n- List commonly used libraries for Data Science  \n- Summarize open-source tools for Data Science  \n- Provide examples of simple arithmetic expressions in Python ",
      "metadata": {}
    },
    {
      "id": "fa1e6c88-94ba-4ca5-944a-54828bcdb181",
      "cell_type": "markdown",
      "source": "Some of the popular languages that Data Scientists use are:\n\n1. R\n2. Python\n3. SQL\n4. Julia\n5. Scala",
      "metadata": {}
    },
    {
      "id": "22b8b08a-b390-490f-9b7f-d4c01d6f492b",
      "cell_type": "markdown",
      "source": "Some of the commonly used libraries used by Data Scientists include:\n\n1. Pandas\n2. Numpy\n3. Tensorflow\n4. Caret\n5. Scikit-learn",
      "metadata": {}
    },
    {
      "id": "4c437ade-d500-4ff5-8aa1-e94d669f76d4",
      "cell_type": "markdown",
      "source": "| Data Science Tools |\n|---|\n|Apache Zeppelin|\n|R Studio|\n|Jupyter Notebook|",
      "metadata": {}
    },
    {
      "id": "7966ebef-6cc3-4d8d-8529-132acf677152",
      "cell_type": "markdown",
      "source": "### Below are a few examples of evaluating arithmetic expressions in Python.",
      "metadata": {}
    },
    {
      "id": "2f9e3b62-6fb5-45b7-a4d0-ed24c65bc06f",
      "cell_type": "code",
      "source": "# This a simple arithmetic expression to mutiply then add integers.\n(3*4)+5",
      "metadata": {
        "trusted": true
      },
      "outputs": [
        {
          "execution_count": 1,
          "output_type": "execute_result",
          "data": {
            "text/plain": "17"
          },
          "metadata": {}
        }
      ],
      "execution_count": 1
    },
    {
      "id": "c5b018ca-1975-43e3-8950-4c4b565cb22b",
      "cell_type": "code",
      "source": "# This will convert 200 minutes to hours by diving by 60\nprint(200/60, \"hours\")",
      "metadata": {
        "trusted": true
      },
      "outputs": [
        {
          "name": "stdout",
          "output_type": "stream",
          "text": "3.3333333333333335 hours\n"
        }
      ],
      "execution_count": 2
    },
    {
      "id": "bc509fc9-387f-40b0-b8b6-df71c8db5f7f",
      "cell_type": "markdown",
      "source": "## Author\nReeya Panda",
      "metadata": {}
    }
  ]
}